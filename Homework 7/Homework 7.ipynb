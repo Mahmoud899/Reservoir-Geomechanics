{
 "cells": [
  {
   "cell_type": "markdown",
   "id": "7d990938",
   "metadata": {},
   "source": [
    "# Geomechanical Model"
   ]
  },
  {
   "cell_type": "code",
   "execution_count": 1,
   "id": "2559e024",
   "metadata": {},
   "outputs": [],
   "source": [
    "import numpy as np\n",
    "import matplotlib.pyplot as plt\n",
    "import pandas as pd"
   ]
  },
  {
   "cell_type": "markdown",
   "id": "5ffd4a86",
   "metadata": {},
   "source": [
    "## Density Log"
   ]
  },
  {
   "cell_type": "markdown",
   "id": "38ea50ab",
   "metadata": {},
   "source": [
    "### Estimiate Sv"
   ]
  },
  {
   "cell_type": "code",
   "execution_count": 2,
   "id": "6c34f948",
   "metadata": {},
   "outputs": [],
   "source": [
    "from scipy.integrate import cumtrapz"
   ]
  },
  {
   "cell_type": "code",
   "execution_count": 3,
   "id": "04742bf6",
   "metadata": {
    "scrolled": true
   },
   "outputs": [
    {
     "data": {
      "text/html": [
       "<div>\n",
       "<style scoped>\n",
       "    .dataframe tbody tr th:only-of-type {\n",
       "        vertical-align: middle;\n",
       "    }\n",
       "\n",
       "    .dataframe tbody tr th {\n",
       "        vertical-align: top;\n",
       "    }\n",
       "\n",
       "    .dataframe thead th {\n",
       "        text-align: right;\n",
       "    }\n",
       "</style>\n",
       "<table border=\"1\" class=\"dataframe\">\n",
       "  <thead>\n",
       "    <tr style=\"text-align: right;\">\n",
       "      <th></th>\n",
       "      <th>Depth(ft)</th>\n",
       "      <th>Density (g/cc)</th>\n",
       "    </tr>\n",
       "  </thead>\n",
       "  <tbody>\n",
       "    <tr>\n",
       "      <th>0</th>\n",
       "      <td>100.5</td>\n",
       "      <td>1.8778</td>\n",
       "    </tr>\n",
       "  </tbody>\n",
       "</table>\n",
       "</div>"
      ],
      "text/plain": [
       "   Depth(ft)  Density (g/cc)\n",
       "0      100.5          1.8778"
      ]
     },
     "execution_count": 3,
     "metadata": {},
     "output_type": "execute_result"
    }
   ],
   "source": [
    "density_log = pd.read_csv('Data/Barnett_density_data.csv')\n",
    "density_log.head(1)"
   ]
  },
  {
   "cell_type": "code",
   "execution_count": 4,
   "id": "c0bbe0cb",
   "metadata": {},
   "outputs": [],
   "source": [
    "density_log.rename(columns={'Depth(ft)': 'Depth (ft)'}, inplace=True)"
   ]
  },
  {
   "cell_type": "code",
   "execution_count": 5,
   "id": "15957a30",
   "metadata": {},
   "outputs": [],
   "source": [
    "def Extrapolate(density_log):\n",
    "    depths = np.arange(0, 100.5, 0.5)\n",
    "    densities = np.full_like(depths, 1.8778)\n",
    "\n",
    "    df = pd.DataFrame()\n",
    "    df['Depth (ft)'] = depths\n",
    "    df['Density (g/cc)'] = densities\n",
    "    density_log = pd.concat([df, density_log], ignore_index=True)\n",
    "    \n",
    "    return density_log\n",
    "\n",
    "density_log = Extrapolate(density_log)\n",
    "\n",
    "density_log['Sv (psi)'] = 0.443*cumtrapz(density_log['Density (g/cc)'], density_log['Depth (ft)'], initial=0)"
   ]
  },
  {
   "cell_type": "markdown",
   "id": "f39d8594",
   "metadata": {},
   "source": [
    "## Sonic Log"
   ]
  },
  {
   "cell_type": "code",
   "execution_count": 6,
   "id": "c609a3cc",
   "metadata": {},
   "outputs": [
    {
     "data": {
      "text/html": [
       "<div>\n",
       "<style scoped>\n",
       "    .dataframe tbody tr th:only-of-type {\n",
       "        vertical-align: middle;\n",
       "    }\n",
       "\n",
       "    .dataframe tbody tr th {\n",
       "        vertical-align: top;\n",
       "    }\n",
       "\n",
       "    .dataframe thead th {\n",
       "        text-align: right;\n",
       "    }\n",
       "</style>\n",
       "<table border=\"1\" class=\"dataframe\">\n",
       "  <thead>\n",
       "    <tr style=\"text-align: right;\">\n",
       "      <th></th>\n",
       "      <th>Formation name</th>\n",
       "      <th>Depth range (ft)</th>\n",
       "      <th>Formation Type</th>\n",
       "      <th>Estimate from sonic logs</th>\n",
       "      <th>Estimate from density logs</th>\n",
       "    </tr>\n",
       "  </thead>\n",
       "  <tbody>\n",
       "    <tr>\n",
       "      <th>0</th>\n",
       "      <td>Marble Falls</td>\n",
       "      <td>5000.0 - 5167.0</td>\n",
       "      <td>Limestone</td>\n",
       "      <td>Table 4.3, Equation 22</td>\n",
       "      <td>Table 4.3, Equation 26</td>\n",
       "    </tr>\n",
       "    <tr>\n",
       "      <th>1</th>\n",
       "      <td>Duffer</td>\n",
       "      <td>5167.5 - 5514.0</td>\n",
       "      <td>Limestone</td>\n",
       "      <td>Table 4.3, Equation 23</td>\n",
       "      <td>Table 4.3, Equation 26</td>\n",
       "    </tr>\n",
       "    <tr>\n",
       "      <th>2</th>\n",
       "      <td>Barnett</td>\n",
       "      <td>5514.5 - 6195.0</td>\n",
       "      <td>Shale</td>\n",
       "      <td>Table 4.2, Equation 16</td>\n",
       "      <td>Table 4.2, Equation 17</td>\n",
       "    </tr>\n",
       "  </tbody>\n",
       "</table>\n",
       "</div>"
      ],
      "text/plain": [
       "  Formation name Depth range (ft) Formation Type Estimate from sonic logs  \\\n",
       "0   Marble Falls  5000.0 - 5167.0      Limestone   Table 4.3, Equation 22   \n",
       "1         Duffer  5167.5 - 5514.0      Limestone   Table 4.3, Equation 23   \n",
       "2        Barnett  5514.5 - 6195.0          Shale   Table 4.2, Equation 16   \n",
       "\n",
       "  Estimate from density logs  \n",
       "0     Table 4.3, Equation 26  \n",
       "1     Table 4.3, Equation 26  \n",
       "2     Table 4.2, Equation 17  "
      ]
     },
     "execution_count": 6,
     "metadata": {},
     "output_type": "execute_result"
    }
   ],
   "source": [
    "assumed_empirical_equtions = pd.read_excel('Data/Barnett_assumed_formations_emperical_equations.xls')\n",
    "assumed_empirical_equtions"
   ]
  },
  {
   "cell_type": "code",
   "execution_count": 7,
   "id": "23c53d8c",
   "metadata": {},
   "outputs": [
    {
     "data": {
      "text/html": [
       "<div>\n",
       "<style scoped>\n",
       "    .dataframe tbody tr th:only-of-type {\n",
       "        vertical-align: middle;\n",
       "    }\n",
       "\n",
       "    .dataframe tbody tr th {\n",
       "        vertical-align: top;\n",
       "    }\n",
       "\n",
       "    .dataframe thead th {\n",
       "        text-align: right;\n",
       "    }\n",
       "</style>\n",
       "<table border=\"1\" class=\"dataframe\">\n",
       "  <thead>\n",
       "    <tr style=\"text-align: right;\">\n",
       "      <th></th>\n",
       "      <th>Depth (ft)</th>\n",
       "      <th>compressional wave velocity (m/s)</th>\n",
       "      <th>shear wave velocity (m/s)</th>\n",
       "      <th>Youngs modulus (MPa)</th>\n",
       "      <th>formation name</th>\n",
       "      <th>unconfined compressive strength from sonic logs (psi)</th>\n",
       "      <th>unconfined compressive strength from density logs (psi)</th>\n",
       "    </tr>\n",
       "  </thead>\n",
       "  <tbody>\n",
       "    <tr>\n",
       "      <th>0</th>\n",
       "      <td>5000.0</td>\n",
       "      <td>3944.073861</td>\n",
       "      <td>2654.090504</td>\n",
       "      <td>36819.975886</td>\n",
       "      <td>Marble Falls</td>\n",
       "      <td>12573.542711</td>\n",
       "      <td>8596.219011</td>\n",
       "    </tr>\n",
       "    <tr>\n",
       "      <th>1</th>\n",
       "      <td>5000.5</td>\n",
       "      <td>3900.451470</td>\n",
       "      <td>2670.163810</td>\n",
       "      <td>35994.606155</td>\n",
       "      <td>Marble Falls</td>\n",
       "      <td>12428.999306</td>\n",
       "      <td>8067.091795</td>\n",
       "    </tr>\n",
       "  </tbody>\n",
       "</table>\n",
       "</div>"
      ],
      "text/plain": [
       "   Depth (ft)  compressional wave velocity (m/s)  shear wave velocity (m/s)  \\\n",
       "0      5000.0                        3944.073861                2654.090504   \n",
       "1      5000.5                        3900.451470                2670.163810   \n",
       "\n",
       "   Youngs modulus (MPa) formation name  \\\n",
       "0          36819.975886   Marble Falls   \n",
       "1          35994.606155   Marble Falls   \n",
       "\n",
       "   unconfined compressive strength from sonic logs (psi)  \\\n",
       "0                                       12573.542711       \n",
       "1                                       12428.999306       \n",
       "\n",
       "   unconfined compressive strength from density logs (psi)  \n",
       "0                                        8596.219011        \n",
       "1                                        8067.091795        "
      ]
     },
     "execution_count": 7,
     "metadata": {},
     "output_type": "execute_result"
    }
   ],
   "source": [
    "sonic_log = pd.read_excel('Data/Reservoir_Geomechanics_MOOC_2020_Homework_3_answers.xlsx')\n",
    "sonic_log.head(2)"
   ]
  },
  {
   "cell_type": "code",
   "execution_count": 8,
   "id": "41e96d22",
   "metadata": {},
   "outputs": [],
   "source": [
    "Data = pd.merge(sonic_log, density_log, on='Depth (ft)', how='inner')"
   ]
  },
  {
   "cell_type": "markdown",
   "id": "bd1d7704",
   "metadata": {},
   "source": [
    "## Fracture Data"
   ]
  },
  {
   "cell_type": "code",
   "execution_count": 9,
   "id": "87d5d581",
   "metadata": {},
   "outputs": [
    {
     "data": {
      "text/html": [
       "<div>\n",
       "<style scoped>\n",
       "    .dataframe tbody tr th:only-of-type {\n",
       "        vertical-align: middle;\n",
       "    }\n",
       "\n",
       "    .dataframe tbody tr th {\n",
       "        vertical-align: top;\n",
       "    }\n",
       "\n",
       "    .dataframe thead th {\n",
       "        text-align: right;\n",
       "    }\n",
       "</style>\n",
       "<table border=\"1\" class=\"dataframe\">\n",
       "  <thead>\n",
       "    <tr style=\"text-align: right;\">\n",
       "      <th></th>\n",
       "      <th>depth (foot)</th>\n",
       "      <th>strike (degree)</th>\n",
       "      <th>dip (degree)</th>\n",
       "      <th>dip_direction (degree)</th>\n",
       "      <th>aperture (millimeter)</th>\n",
       "    </tr>\n",
       "  </thead>\n",
       "  <tbody>\n",
       "    <tr>\n",
       "      <th>0</th>\n",
       "      <td>5200.824</td>\n",
       "      <td>228.25</td>\n",
       "      <td>76.41</td>\n",
       "      <td>318.25</td>\n",
       "      <td>4.31</td>\n",
       "    </tr>\n",
       "    <tr>\n",
       "      <th>1</th>\n",
       "      <td>5200.965</td>\n",
       "      <td>207.80</td>\n",
       "      <td>86.11</td>\n",
       "      <td>297.80</td>\n",
       "      <td>5.87</td>\n",
       "    </tr>\n",
       "  </tbody>\n",
       "</table>\n",
       "</div>"
      ],
      "text/plain": [
       "   depth (foot)  strike (degree)  dip (degree)  dip_direction (degree)  \\\n",
       "0      5200.824           228.25         76.41                  318.25   \n",
       "1      5200.965           207.80         86.11                  297.80   \n",
       "\n",
       "   aperture (millimeter)  \n",
       "0                   4.31  \n",
       "1                   5.87  "
      ]
     },
     "execution_count": 9,
     "metadata": {},
     "output_type": "execute_result"
    }
   ],
   "source": [
    "fractures = pd.read_excel('Data/Barnett_fractures.xls')\n",
    "fractures = fractures.loc[:, fractures.columns[:5]]\n",
    "fractures.head(2)"
   ]
  },
  {
   "cell_type": "markdown",
   "id": "1f31666a",
   "metadata": {},
   "source": [
    "## Constrain SH"
   ]
  },
  {
   "cell_type": "markdown",
   "id": "c2c41f64",
   "metadata": {},
   "source": [
    "Depth = 5725 ft\n",
    "\n",
    "S3_grad = 0.65 psi/ft\n",
    "\n",
    "Lower bound of Pm = 0.48 psi/ft\n",
    "\n",
    "Coefficient of Sliding Friction = 0.75\n",
    "\n",
    "Mud Pressure = 0.53 psi/ft\n",
    "\n",
    "Pp = 0.48 psi/ft \n",
    "\n",
    "No Tensile Fracture \n",
    "\n",
    "No Breakouts\n",
    "\n",
    "Tensile Strength = 0\n",
    "\n",
    "Breakouts Width = 0"
   ]
  },
  {
   "cell_type": "code",
   "execution_count": 10,
   "id": "99d84683",
   "metadata": {},
   "outputs": [],
   "source": [
    "Sv = Data['Sv (psi)'][Data['Depth (ft)'] == 5725].values.round(3)\n",
    "C0 = (Data['unconfined compressive strength from sonic logs (psi)'][Data['Depth (ft)'] == 5725].values).round(2)\n",
    "S3 = 0.65 * 5725\n",
    "Pm = 0.53*5725\n",
    "Pp = 0.48*5725\n",
    "T0 = 0"
   ]
  },
  {
   "cell_type": "code",
   "execution_count": 11,
   "id": "77df29e0",
   "metadata": {},
   "outputs": [
    {
     "name": "stdout",
     "output_type": "stream",
     "text": [
      "Overburden Stress is 6442.345\n",
      "S3 is 3721.25\n",
      "Pore pressure is 2748.0\n",
      "Mud pressure is 3034.25\n",
      "UCS is 12659.88\n"
     ]
    }
   ],
   "source": [
    "print(f'Overburden Stress is {Sv[0]}')\n",
    "print(f'S3 is {S3}')\n",
    "print(f'Pore pressure is {Pp}')\n",
    "print(f'Mud pressure is {Pm}')\n",
    "print(f'UCS is {C0[0]}')"
   ]
  },
  {
   "cell_type": "markdown",
   "id": "704061b5",
   "metadata": {},
   "source": [
    "Sv > S3"
   ]
  },
  {
   "cell_type": "code",
   "execution_count": 12,
   "id": "496c4c31",
   "metadata": {},
   "outputs": [],
   "source": [
    "Sh = S3"
   ]
  },
  {
   "cell_type": "code",
   "execution_count": 13,
   "id": "8ae69211",
   "metadata": {},
   "outputs": [],
   "source": [
    "import Utils as ut"
   ]
  },
  {
   "cell_type": "code",
   "execution_count": 14,
   "id": "33cdde0a",
   "metadata": {},
   "outputs": [
    {
     "data": {
      "image/png": "[encoded data removed]",
      "text/plain": [
       "<Figure size 576x576 with 1 Axes>"
      ]
     },
     "metadata": {
      "needs_background": "light"
     },
     "output_type": "display_data"
    }
   ],
   "source": [
    "ax = ut.StressPolygonAdjusted(Sv[0], Pp, Pm, C0[0], wbo=0, T0=0, mu=0.75)\n",
    "ax.vlines(S3, ymin=ax.get_ylim()[0], ymax=ax.get_ylim()[1], color='violet')\n",
    "ax.set_xlabel('Sh (psi)')\n",
    "ax.set_ylabel('SH (psi)')\n",
    "plt.show()"
   ]
  },
  {
   "cell_type": "code",
   "execution_count": 15,
   "id": "fa1b36dc",
   "metadata": {},
   "outputs": [
    {
     "name": "stdout",
     "output_type": "stream",
     "text": [
      "Lower Bound of SH is 3721.250\n",
      "Upper Bound of SH is 5381.500\n"
     ]
    }
   ],
   "source": [
    "f_mu = ut.CriticalStateFunction(0.75)\n",
    "SH_max = 3*Sh - 2*Pp - (Pm-Pp) + T0 \n",
    "print(f'Lower Bound of SH is {Sh:0.3f}')\n",
    "print(f'Upper Bound of SH is {SH_max:0.3f}')"
   ]
  },
  {
   "cell_type": "code",
   "execution_count": 16,
   "id": "23924318",
   "metadata": {},
   "outputs": [],
   "source": [
    "def phi(S1, S2, S3):\n",
    "    return (S2-S3)/(S1-S3)\n",
    "\n",
    "def Aphi(phi, n):\n",
    "    return (n+0.5)+(-1)**n * (phi-0.5)"
   ]
  },
  {
   "cell_type": "code",
   "execution_count": 17,
   "id": "a60fa234",
   "metadata": {},
   "outputs": [
    {
     "name": "stdout",
     "output_type": "stream",
     "text": [
      "phi min is [0.]\n",
      "phi max is [0.6101404]\n"
     ]
    }
   ],
   "source": [
    "phi_low = phi(Sv, Sh, Sh)\n",
    "phi_upp = phi(Sv, SH_max, Sh)\n",
    "print(f'phi min is {phi_low}')\n",
    "print(f'phi max is {phi_upp}')"
   ]
  },
  {
   "cell_type": "code",
   "execution_count": 18,
   "id": "0e752466",
   "metadata": {},
   "outputs": [
    {
     "name": "stdout",
     "output_type": "stream",
     "text": [
      "Aphi max is [0.6101404]\n"
     ]
    }
   ],
   "source": [
    "Aphi_max = Aphi(phi_upp, n=0)\n",
    "Aphi_min = Aphi(phi_low, n=0)\n",
    "print(f'Aphi max is {Aphi_max}')"
   ]
  },
  {
   "cell_type": "code",
   "execution_count": null,
   "id": "c5c99a30",
   "metadata": {},
   "outputs": [],
   "source": []
  }
 ],
 "metadata": {
  "kernelspec": {
   "display_name": "Python 3 (ipykernel)",
   "language": "python",
   "name": "python3"
  },
  "language_info": {
   "codemirror_mode": {
    "name": "ipython",
    "version": 3
   },
   "file_extension": ".py",
   "mimetype": "text/x-python",
   "name": "python",
   "nbconvert_exporter": "python",
   "pygments_lexer": "ipython3",
   "version": "3.9.12"
  }
 },
 "nbformat": 4,
 "nbformat_minor": 5
}
